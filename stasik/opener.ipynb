{
 "cells": [
  {
   "cell_type": "markdown",
   "metadata": {},
   "source": [
    "# Point Cloud Visualization"
   ]
  },
  {
   "cell_type": "code",
   "execution_count": 13,
   "metadata": {},
   "outputs": [
    {
     "name": "stdout",
     "output_type": "stream",
     "text": [
      "3.10.0\n"
     ]
    }
   ],
   "source": [
    "from platform import python_version\n",
    "print(python_version())"
   ]
  },
  {
   "cell_type": "code",
   "execution_count": 2,
   "metadata": {},
   "outputs": [
    {
     "name": "stdout",
     "output_type": "stream",
     "text": [
      "[[-0.60299999 -0.51899999  3.7860003 ]\n",
      " [-0.60000002 -0.51899999  3.7180002 ]\n",
      " [-0.597      -0.51899999  3.7050002 ]\n",
      " ...\n",
      " [ 1.896       1.077       3.2490001 ]\n",
      " [ 1.899       1.077       3.2590001 ]\n",
      " [ 1.9020001   1.077       3.2590001 ]]\n",
      "[[0.66666667 0.         1.        ]\n",
      " [0.61568627 0.         1.        ]\n",
      " [0.61568627 0.         1.        ]\n",
      " ...\n",
      " [0.28627451 0.         1.        ]\n",
      " [0.30196078 0.         1.        ]\n",
      " [0.30196078 0.         1.        ]]\n",
      "[]\n"
     ]
    }
   ],
   "source": [
    "import open3d as o3d\n",
    "import numpy as np\n",
    "\n",
    "cloud = o3d.io.read_point_cloud('D:/university/6semestr/AI-diploma-niias/stasik/src/cloud_2_0002.pcd')\n",
    "print(np.asarray(cloud.points))\n",
    "print(np.asarray(cloud.colors))\n",
    "print(np.asarray(cloud.normals))\n",
    "o3d.visualization.draw_geometries([cloud])"
   ]
  },
  {
   "cell_type": "markdown",
   "metadata": {},
   "source": [
    "### Format: pcd | Package: Open3D"
   ]
  },
  {
   "cell_type": "code",
   "execution_count": 17,
   "metadata": {},
   "outputs": [
    {
     "name": "stdout",
     "output_type": "stream",
     "text": [
      "PointCloud with 543758 points.\n",
      "Shape of points (543758, 3)\n",
      "Shape of colors (543758, 3)\n"
     ]
    }
   ],
   "source": [
    "# Load pcd file\n",
    "pc_pcd = o3d.io.read_point_cloud(\"D:/university/6semestr/AI-diploma-niias/stasik/src/cloud_2_0002.pcd\")\n",
    "# Point Cloud info\n",
    "print(pc_pcd)\n",
    "print('Shape of points', np.asarray(pc_pcd.points).shape)\n",
    "print('Shape of colors', np.asarray(pc_pcd.colors).shape) # no color data"
   ]
  },
  {
   "cell_type": "code",
   "execution_count": 18,
   "metadata": {},
   "outputs": [],
   "source": [
    "# visualization\n",
    "o3d.visualization.draw_geometries([pc_pcd])"
   ]
  }
 ],
 "metadata": {
  "kernelspec": {
   "display_name": "Python 3.6.13 ('LCV_PC_VIS')",
   "language": "python",
   "name": "python3"
  },
  "language_info": {
   "codemirror_mode": {
    "name": "ipython",
    "version": 3
   },
   "file_extension": ".py",
   "mimetype": "text/x-python",
   "name": "python",
   "nbconvert_exporter": "python",
   "pygments_lexer": "ipython3",
   "version": "3.10.0"
  },
  "vscode": {
   "interpreter": {
    "hash": "d74db5148e1a68dcf7f06745f9dc6b91b0a1ff672d76fc3644db7b9b719f5d2c"
   }
  }
 },
 "nbformat": 4,
 "nbformat_minor": 2
}
