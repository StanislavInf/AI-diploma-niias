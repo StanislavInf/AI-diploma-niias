{
 "cells": [
  {
   "cell_type": "markdown",
   "metadata": {},
   "source": [
    "# Point Cloud Visualization"
   ]
  },
  {
   "cell_type": "code",
   "execution_count": 324,
   "metadata": {},
   "outputs": [
    {
     "name": "stdout",
     "output_type": "stream",
     "text": [
      "3.10.0\n"
     ]
    }
   ],
   "source": [
    "from platform import python_version\n",
    "print(python_version())"
   ]
  },
  {
   "cell_type": "code",
   "execution_count": 325,
   "metadata": {},
   "outputs": [],
   "source": [
    "import numpy as np\n",
    "import json\n",
    "import open3d as o3d\n",
    "import matplotlib.pyplot as plt"
   ]
  },
  {
   "cell_type": "markdown",
   "metadata": {},
   "source": [
    "### Format: pcd | Package: Open3D"
   ]
  },
  {
   "cell_type": "markdown",
   "metadata": {},
   "source": [
    "#### Получениеф файла pcd"
   ]
  },
  {
   "cell_type": "code",
   "execution_count": 326,
   "metadata": {},
   "outputs": [
    {
     "name": "stdout",
     "output_type": "stream",
     "text": [
      "[[ 1.836      -0.34200001  3.7860003 ]\n",
      " [ 1.839      -0.34200001  3.7450001 ]\n",
      " [ 1.842      -0.34200001  3.7320001 ]\n",
      " ...\n",
      " [ 1.8660001   1.077       3.3440001 ]\n",
      " [ 1.869       1.077       3.3440001 ]\n",
      " [ 1.872       1.077       3.3330002 ]]\n",
      "[[0.66666667 0.         1.        ]\n",
      " [0.63921569 0.         1.        ]\n",
      " [0.62745098 0.         1.        ]\n",
      " ...\n",
      " [0.35294118 0.         1.        ]\n",
      " [0.35294118 0.         1.        ]\n",
      " [0.35294118 0.         1.        ]]\n",
      "[]\n",
      "PointCloud with 526833 points.\n",
      "Shape of points (526833, 3)\n",
      "Shape of colors (526833, 3)\n"
     ]
    }
   ],
   "source": [
    "geometries = []\n",
    "cloud = o3d.io.read_point_cloud(\"D:/university/6semestr/AI-diploma-niias/stasik/src/cloud_2_0001.pcd\")\n",
    "geometries.append(cloud)\n",
    "print(np.asarray(cloud.points))\n",
    "print(np.asarray(cloud.colors))\n",
    "print(np.asarray(cloud.normals))\n",
    "print(cloud)\n",
    "print('Shape of points', np.asarray(cloud.points).shape)\n",
    "print('Shape of colors', np.asarray(cloud.colors).shape) # no color data"
   ]
  },
  {
   "cell_type": "markdown",
   "metadata": {},
   "source": [
    "#### Извлечение данных json и построение кубойдов"
   ]
  },
  {
   "cell_type": "code",
   "execution_count": 327,
   "metadata": {},
   "outputs": [],
   "source": [
    "def create_cuboid(cub):\n",
    "    position = cub['position']\n",
    "    rotation = cub['rotation']\n",
    "    dimensions = cub['dimensions']\n",
    "    # Создание кубоида\n",
    "    width, height, depth = dimensions['x'], dimensions['y'], dimensions['z']\n",
    "    cuboid_3d = o3d.geometry.TriangleMesh.create_box(width, height, depth)\n",
    "    cuboid_3d.paint_uniform_color([1, 0, 0]) # Цвети\n",
    "    # Задание позиции\n",
    "    x, y, z = position['x'], position['y'], position['z']\n",
    "    cuboid_3d.translate([x, y, z])\n",
    "    # Ротация\n",
    "    alfa, beta, gamma = rotation['x'], rotation['y'], rotation['z']\n",
    "    rotate = cuboid_3d.get_rotation_matrix_from_xyz((alfa, beta, gamma))\n",
    "    cuboid_3d.rotate(rotate)\n",
    "    # Получение облака точек\n",
    "    cuboid = cuboid_3d.sample_points_uniformly(number_of_points=2000)\n",
    "    return cuboid"
   ]
  },
  {
   "cell_type": "code",
   "execution_count": 328,
   "metadata": {},
   "outputs": [],
   "source": [
    "with open('D:/university/6semestr/AI-diploma-niias/stasik/src/cloud_2_0001.pcd.json') as f:\n",
    "    data = json.load(f)\n",
    "figures = data['figures']"
   ]
  },
  {
   "cell_type": "code",
   "execution_count": 329,
   "metadata": {},
   "outputs": [],
   "source": [
    "for i in range(len(figures)):\n",
    "    geometries.append(create_cuboid(figures[i]['geometry']))\n"
   ]
  },
  {
   "cell_type": "code",
   "execution_count": 330,
   "metadata": {},
   "outputs": [],
   "source": [
    "# downpcd = cloud.voxel_down_sample(voxel_size=0.05)\n",
    "o3d.visualization.draw_geometries(geometries)"
   ]
  },
  {
   "cell_type": "code",
   "execution_count": 331,
   "metadata": {},
   "outputs": [],
   "source": [
    "# points = np.asarray(cloud.points)\n",
    "# fig = plt.figure()\n",
    "# ax = fig.add_subplot(111, projection='3d')\n",
    "# ax.scatter(points[:,0], points[:,1], points[:,2])\n",
    "# plt.show()"
   ]
  }
 ],
 "metadata": {
  "kernelspec": {
   "display_name": "Python 3.6.13 ('LCV_PC_VIS')",
   "language": "python",
   "name": "python3"
  },
  "language_info": {
   "codemirror_mode": {
    "name": "ipython",
    "version": 3
   },
   "file_extension": ".py",
   "mimetype": "text/x-python",
   "name": "python",
   "nbconvert_exporter": "python",
   "pygments_lexer": "ipython3",
   "version": "3.10.0"
  },
  "vscode": {
   "interpreter": {
    "hash": "d74db5148e1a68dcf7f06745f9dc6b91b0a1ff672d76fc3644db7b9b719f5d2c"
   }
  }
 },
 "nbformat": 4,
 "nbformat_minor": 2
}
